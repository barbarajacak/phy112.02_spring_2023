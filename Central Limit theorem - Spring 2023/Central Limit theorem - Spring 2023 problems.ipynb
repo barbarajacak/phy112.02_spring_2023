{
 "cells": [
  {
   "cell_type": "markdown",
   "metadata": {},
   "source": [
    "# Central Limit theorem - Spring 2023 problems"
   ],
   "id": "0"
  },
  {
   "cell_type": "markdown",
   "metadata": {},
   "source": [
    "## Question 1: Central Limit Theorem"
   ],
   "id": "1"
  },
  {
   "cell_type": "markdown",
   "metadata": {},
   "source": [
    "### Learning objectives\n",
    "In this question you will:\n",
    "\n",
    "- See that you can use $\\sigma$ as a measure of resolution even for distributions that are not Gaussian\n",
    "- Learn how to write a simple Monte Carlo and use it to reproduce an analytical result\n"
   ],
   "id": "2"
  },
  {
   "cell_type": "markdown",
   "metadata": {
    "flags": [
     "problems",
     "solutions"
    ]
   },
   "source": [
    "The [*Central Limit Theorem*](https://en.wikipedia.org/wiki/Central_limit_theorem) tells us  that \n",
    "the distribution of the sum (or average) of a large number of independent, identically \n",
    "distributed measurements will be approximately normal, regardless of the underlying distribution\n",
    "(subject to the condition that mean and variance of the underlying distribution are not infinite).\n",
    "We'll see how this works for the simplest pdf ([probability density function](https://www.khanacademy.org/math/statistics-probability/random-variables-stats-library/random-variables-continuous/v/probability-density-functions)), a random variable $x$ uniformly distributed:"
   ],
   "id": "3"
  },
  {
   "cell_type": "markdown",
   "metadata": {
    "flags": [
     "problems",
     "solutions"
    ]
   },
   "source": [
    "$$f(x) = \\begin{cases} \\frac{1}{b-a} &\\mbox{if } a \\leq x \\leq b \\\\ \n",
    "0 & \\mbox{otherwise} \\end{cases} $$"
   ],
   "id": "4"
  },
  {
   "cell_type": "markdown",
   "metadata": {},
   "source": [
    "### 1a. "
   ],
   "id": "5"
  },
  {
   "cell_type": "markdown",
   "metadata": {
    "flags": [
     "problems",
     "solutions"
    ]
   },
   "source": [
    "Show that the mean $\\mu\\equiv \\int_{\\infty}^{\\infty} x f(x) dx$ is $\\frac{b+a}{2}$ and the variance $\\sigma^2\\equiv  \\int_{\\infty}^{\\infty} x^2 f(x) dx- \\mu^2$ is $\\frac{(b-a)^2}{12}$ for the above distribution."
   ],
   "id": "6"
  },
  {
   "cell_type": "markdown",
   "metadata": {},
   "source": [
    "Write your answer here"
   ],
   "id": "7"
  },
  {
   "cell_type": "markdown",
   "metadata": {},
   "source": [
    "### 1b. "
   ],
   "id": "8"
  },
  {
   "cell_type": "markdown",
   "metadata": {
    "flags": [
     "problems",
     "solutions"
    ]
   },
   "source": [
    "Let $a=0$ and $b=1$. Using your favorite random number generator, generate 1000 random numbers from the uniform distribution, $f(x)$.  Calculate the mean and variance of the numbers you generate.  Hint: You can use the NumPy (Numerical Python) library to generate random numbers from the (0,1) uniform distribution:"
   ],
   "id": "9"
  },
  {
   "cell_type": "code",
   "execution_count": 99,
   "metadata": {
    "flags": [
     "problems",
     "solutions"
    ]
   },
   "outputs": [
    {
     "name": "stdout",
     "output_type": "stream",
     "text": [
      "[0.50530506 0.18439254 0.51488023 0.81991371 0.89529383 0.78487876\n",
      " 0.71686778 0.98827103 0.22221948 0.95705558]\n"
     ]
    }
   ],
   "source": [
    "#Import the NumPy library as \"np\"\n",
    "import numpy as np\n",
    "\n",
    "#Use NumPy to generate a list (it's actually a numpy.ndarray) of 1000 random numbers\n",
    "samples = np.random.rand(1000)\n",
    "\n",
    "#Print the first 10 random numbers\n",
    "print(samples[0:10])"
   ],
   "id": "10"
  },
  {
   "cell_type": "markdown",
   "metadata": {
    "flags": [
     "problems",
     "solutions"
    ]
   },
   "source": [
    "Write your own functions to find the mean and variance of a list of numbers:"
   ],
   "id": "11"
  },
  {
   "cell_type": "code",
   "execution_count": null,
   "metadata": {
    "flags": [
     "problems",
     "solutions"
    ]
   },
   "outputs": [],
   "source": [
    "def find_mean(num_list):\n",
    "    \n",
    "    \"\"\"Your code here to calculate mean\"\"\"\n",
    "    \n",
    "    return mean\n",
    "\n",
    "def find_variance(num_list):\n",
    "    \n",
    "    \"\"\"Your code here to calculate variance\"\"\"\n",
    "    \n",
    "    return variance"
   ],
   "id": "12"
  },
  {
   "cell_type": "code",
   "metadata": {},
   "source": [
    "#Write your answer here"
   ],
   "outputs": [],
   "execution_count": null,
   "id": "13"
  },
  {
   "cell_type": "markdown",
   "metadata": {},
   "source": [
    "### 1c. "
   ],
   "id": "14"
  },
  {
   "cell_type": "markdown",
   "metadata": {
    "flags": [
     "problems",
     "solutions"
    ]
   },
   "source": [
    "Do these numerical results agree with the analytical results you found above?"
   ],
   "id": "15"
  },
  {
   "cell_type": "markdown",
   "metadata": {},
   "source": [
    "Write your answer here"
   ],
   "id": "16"
  },
  {
   "cell_type": "markdown",
   "metadata": {},
   "source": [
    "### 1d. "
   ],
   "id": "17"
  },
  {
   "cell_type": "markdown",
   "metadata": {
    "flags": [
     "problems",
     "solutions"
    ]
   },
   "source": [
    "Make a histogram  with 100 bins where the lower edge of the first bin is at $x=0$ and the upper\n",
    "edge of the last is at $x=1$.  Fill your histogram with the random numbers you generated above."
   ],
   "id": "18"
  },
  {
   "cell_type": "markdown",
   "metadata": {
    "flags": [
     "problems",
     "solutions"
    ]
   },
   "source": [
    "We'll use the **matplotlib.pyplot** module to make several histograms throughout the assignment, so we should go ahead and import it now.  Making a histogram from a list of numbers is as simple as calling [plt.hist()](https://matplotlib.org/api/_as_gen/matplotlib.pyplot.hist.html), with the list as the input parameter.  There are many optional parameters, like the number of bins and the color of the bars.\n",
    "\n",
    "Since our histograms will share similar formatting, it's also useful to define a function rather than typing the same thing over and over.  For this homework, we'll supply the histogramming routine.  In the future, you will write this code yourself."
   ],
   "id": "19"
  },
  {
   "cell_type": "code",
   "execution_count": 102,
   "metadata": {
    "flags": [
     "problems",
     "solutions"
    ]
   },
   "outputs": [],
   "source": [
    "#Import the pyplot module of matplotlib as \"plt\"\n",
    "import matplotlib.pyplot as plt\n",
    "\n",
    "\n",
    "#Makes a histogram filled with the random numbers we generate\n",
    "def plot_histogram(samples,xtitle,ytitle, title, limits):\n",
    "    \n",
    "    #It would be nice to have the mean and standard deviation in the title, so let's get these\n",
    "    mean, sigma = np.mean(samples), np.sqrt(np.var(samples))\n",
    "    #Plot the histogram of the sampled data with 100 bins and a nice color\n",
    "    plt.hist(samples, bins=100, range=limits, color=(0,0.7,0.9))  #Set the color using (r,g,b) values or\n",
    "                                                                  #  use a built-in matplotlib color\"\"\" \n",
    "\n",
    "    #Add some axis labels and a descriptive title\n",
    "    plt.xlabel(xtitle)\n",
    "    plt.ylabel(ytitle)\n",
    "    plt.title(title+'\\n $\\mu={0:.3f},\\ \\sigma={1:.3f}$'.format(mean,sigma) )\n",
    "\n",
    "    #Get rid of the extra white space on the left/right edges (you can delete these two lines without a problem)\n",
    "    xmin, xmax, ymin, ymax = plt.axis()\n",
    "    plt.axis([limits[0],limits[1],ymin,ymax])\n",
    "\n",
    "    #Not necessarily needed in a Jupyter notebook, but it doesn't hurt\n",
    "    plt.show()"
   ],
   "id": "20"
  },
  {
   "cell_type": "markdown",
   "metadata": {
    "flags": [
     "problems",
     "solutions"
    ]
   },
   "source": [
    "Take some time to play with the plot formatting and choose a [color](https://matplotlib.org/2.0.2/api/colors_api.html) you like for the bars.  Then call the function with your random samples."
   ],
   "id": "21"
  },
  {
   "cell_type": "code",
   "metadata": {},
   "source": [
    "#Write your answer here"
   ],
   "outputs": [],
   "execution_count": null,
   "id": "22"
  },
  {
   "cell_type": "markdown",
   "metadata": {},
   "source": [
    "### 1e. "
   ],
   "id": "23"
  },
  {
   "cell_type": "markdown",
   "metadata": {
    "flags": [
     "problems",
     "solutions"
    ]
   },
   "source": [
    "Now suppose you make an ensemble of 1000 pseudoexperiments where each pseduoexperiment consists of $N$ uniformly distributed random numbers.  For each pseudoexperiment, define the measurement $S$ to be\n",
    "\n",
    "$$\n",
    "S \\equiv \\frac{1}{N} \\sum_1^N x_i\n",
    "$$\n",
    "\n",
    "Make histograms of $S$ with the same $x-$axis as above for the cases $N=2$, $N=5$\n",
    "and $N=10$.  Determine the mean and the $\\sigma$ of the distributions displayed in\n",
    "these histograms.  "
   ],
   "id": "24"
  },
  {
   "cell_type": "code",
   "execution_count": 42,
   "metadata": {
    "flags": [
     "problems",
     "solutions"
    ]
   },
   "outputs": [],
   "source": [
    "#Calculates and returns S as defined above\n",
    "def pseudoexperiment(N):\n",
    "    samples = np.random.rand(N)  #samples = [x_1, x_2, ... x_N]\n",
    "    s = 0  #replace this with your calculation of s\n",
    "    \n",
    "    \"\"\"Your code here\"\"\"\n",
    "    \n",
    "    return s\n",
    "\n",
    "#Performs each pseudoexperiment 1000 times and plot a histogram of the results\n",
    "def run_pseudoexperiments(N):\n",
    "    s_list = []\n",
    "    #run the ensemble of 1000 pseudoexperiments and store measurements\n",
    "    for i in range(1000):\n",
    "        s_list.append(pseudoexperiment(N))\n",
    "    #plot a histogram of these 1000 mesa\n",
    "    plot_histogram(s_list,\"Mean Value of x\",\"Number of Entries\",\"1000 PseudoExperiments, each with \"+str(N)+\" Randomly Distributed x values\",[0.0,1.0])"
   ],
   "id": "25"
  },
  {
   "cell_type": "code",
   "execution_count": 43,
   "metadata": {
    "flags": [
     "problems",
     "solutions"
    ]
   },
   "outputs": [],
   "source": [
    "# Uncomment this and run it after you have completed the code above\n",
    "#for N in [2,5,10]:\n",
    "#    run_pseudoexperiments(N)"
   ],
   "id": "26"
  },
  {
   "cell_type": "markdown",
   "metadata": {
    "flags": [
     "problems",
     "solutions"
    ]
   },
   "source": [
    "In each case, compare the $\\sigma$ you obtain to what you would predict if you assumed the experiments followed a normal distribution."
   ],
   "id": "27"
  },
  {
   "cell_type": "code",
   "metadata": {},
   "source": [
    "#Write your answer here"
   ],
   "outputs": [],
   "execution_count": null,
   "id": "28"
  }
 ],
 "metadata": {
  "kernelspec": {
   "display_name": "Python [default]",
   "language": "python",
   "name": "python3"
  },
  "language_info": {
   "codemirror_mode": {
    "name": "ipython",
    "version": 3
   },
   "file_extension": ".py",
   "mimetype": "text/x-python",
   "name": "python",
   "nbconvert_exporter": "python",
   "pygments_lexer": "ipython3",
   "version": "3.6.8"
  }
 },
 "nbformat": 4,
 "nbformat_minor": 5
}
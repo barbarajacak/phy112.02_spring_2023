{
 "cells": [
  {
   "cell_type": "markdown",
   "metadata": {},
   "source": [
    "# Physics 112.1, Spring 2023, Two systems in Energy Equilibrium problems"
   ],
   "id": "0"
  },
  {
   "cell_type": "markdown",
   "metadata": {},
   "source": [
    "## Question 1: Two systems in energy equilibrium"
   ],
   "id": "1"
  },
  {
   "cell_type": "markdown",
   "metadata": {},
   "source": [
    "### Learning objectives\n",
    "In this question you will:\n",
    "\n",
    "- statistically model and simulate large and simple systems\n",
    "- understand energy equilibrium\n",
    "- investigate the change of phenomena with system size\n"
   ],
   "id": "2"
  },
  {
   "cell_type": "markdown",
   "metadata": {
    "flags": [
     "problems",
     "solutions"
    ]
   },
   "source": [
    "We have two systems of $N$ spin-$\\frac{1}{2}$ particles each, in a lattice. We have a Hamiltonian $$H=H_1+H_2=-B\\sum_{i=1}^{N}\\sigma_i-B\\sum_{i=N+1}^{2N}\\sigma_i=-B\\sum_{i=1}^{2N}\\sigma_i,$$ where $\\sigma_i=\\pm 1$ represents the component of the spin along the external field $B$. The spins with $i=1,\\ldots,N$ are system 1 are the spins $i=N+1,\\ldots,2N$ are system 2."
   ],
   "id": "3"
  },
  {
   "cell_type": "markdown",
   "metadata": {},
   "source": [
    "### 1a. "
   ],
   "id": "4"
  },
  {
   "cell_type": "markdown",
   "metadata": {
    "flags": [
     "problems",
     "solutions"
    ]
   },
   "source": [
    "Is there a notion of \"locality\" in the Hamiltonian? What is the effect of the lattice? (Hint: how would you distinguish the particles?)"
   ],
   "id": "5"
  },
  {
   "cell_type": "markdown",
   "metadata": {},
   "source": [
    "Write your answer here"
   ],
   "id": "6"
  },
  {
   "cell_type": "markdown",
   "metadata": {},
   "source": [
    "### 1b. "
   ],
   "id": "7"
  },
  {
   "cell_type": "markdown",
   "metadata": {
    "flags": [
     "problems",
     "solutions"
    ]
   },
   "source": [
    "For each of the systems of size $N$, calculate the multiplicity of the macrostate with energy $E$. Express the (dimensionless) entropy density $s=\\sigma/N=\\log g/N$ in terms of the energy density $u=E/N$, and take the limit $N\\rightarrow\\infty$."
   ],
   "id": "8"
  },
  {
   "cell_type": "markdown",
   "metadata": {},
   "source": [
    "Write your answer here"
   ],
   "id": "9"
  },
  {
   "cell_type": "markdown",
   "metadata": {},
   "source": [
    "### 1c. "
   ],
   "id": "10"
  },
  {
   "cell_type": "markdown",
   "metadata": {
    "flags": [
     "problems",
     "solutions"
    ]
   },
   "source": [
    "Plot $s$ against $u$ for $N=10,100,1000,10^4,\\infty$ (all in one plot). "
   ],
   "id": "11"
  },
  {
   "cell_type": "code",
   "metadata": {},
   "source": [
    "#Write your answer here"
   ],
   "outputs": [],
   "execution_count": null,
   "id": "12"
  },
  {
   "cell_type": "markdown",
   "metadata": {},
   "source": [
    "### 1d. "
   ],
   "id": "13"
  },
  {
   "cell_type": "markdown",
   "metadata": {
    "flags": [
     "problems",
     "solutions"
    ]
   },
   "source": [
    "From here on, we will talk only about intensive quantities, i.e. energy and entropy _densities_ (but we won't keep repeating \"density\").\n",
    "\n",
    "At $t=0$, system 1 has all spins down, and that system 2 has exactly half the spins up. Let's investigate what happens when the systems are allowed to exchange energy.\n",
    "\n",
    "Assuming the total energy of the combined system is fixed, plot the total combined entropy as a function of the energy of the first system $u_1$, for the same $N$s as before. On the plot, indicate the $u_1$s\n",
    "- where the system is now\n",
    "- where the maximum entropy is"
   ],
   "id": "14"
  },
  {
   "cell_type": "markdown",
   "metadata": {},
   "source": [
    "Write your answer here"
   ],
   "id": "15"
  },
  {
   "cell_type": "markdown",
   "metadata": {},
   "source": [
    "### 1e. "
   ],
   "id": "16"
  },
  {
   "cell_type": "markdown",
   "metadata": {
    "flags": [
     "problems",
     "solutions"
    ]
   },
   "source": [
    "We can simulate dynamics using the following algorithm: at each step $i$, we randomly choose a pair of spins from any system, and exchange them, i.e. we first pick $i$ from $1,\\ldots,2N$, and then $j\\not=i$ from that range, and set $(\\sigma_i,\\sigma_j)\\rightarrow(\\sigma_j,\\sigma_i)$.\n",
    "\n",
    "For the same $N$s as before, simulate the system using the above dynamics for a large number of time-steps. Plot the entropy and energy of each subsystem and the combined system as a function of $t$ (the number of steps). Compare the initial and final entropies, and interpret your results. How long does the system take to \"equilibriate\"?\n",
    "\n",
    "(Since it's a random process, try running it a few different times to see some different results.)"
   ],
   "id": "17"
  },
  {
   "cell_type": "code",
   "metadata": {},
   "source": [
    "#Write your answer here"
   ],
   "outputs": [],
   "execution_count": null,
   "id": "18"
  }
 ],
 "metadata": {
  "kernelspec": {
   "display_name": "Python [default]",
   "language": "python",
   "name": "python3"
  },
  "language_info": {
   "codemirror_mode": {
    "name": "ipython",
    "version": 3
   },
   "file_extension": ".py",
   "mimetype": "text/x-python",
   "name": "python",
   "nbconvert_exporter": "python",
   "pygments_lexer": "ipython3",
   "version": "3.6.8"
  }
 },
 "nbformat": 4,
 "nbformat_minor": 5
}
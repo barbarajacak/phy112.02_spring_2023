{
 "cells": [
  {
   "cell_type": "markdown",
   "metadata": {},
   "source": [
    "# Determine temperature of quark gluon plasma problems"
   ],
   "id": "0"
  },
  {
   "cell_type": "markdown",
   "metadata": {},
   "source": [
    "## Question 1: Thermal Radiation from Quark Gluon Plasma"
   ],
   "id": "1"
  },
  {
   "cell_type": "markdown",
   "metadata": {},
   "source": [
    "### Learning objectives\n",
    "In this question you will:\n",
    "\n",
    "- experience application of thermal radiation theory to a current research topic and learn how to fit data with a functional form to extract physical information\n"
   ],
   "id": "2"
  },
  {
   "cell_type": "markdown",
   "metadata": {
    "flags": [
     "problems",
     "solutions"
    ]
   },
   "source": [
    "We can analyze the spectrum of photons emitted from a quark gluon plasma created at a collider to measure the temperature of the plasma. Typically, we measure photons with energy of 1 GeV (giga-electron volt) or more, so the energy is considerably larger than the temperature. "
   ],
   "id": "3"
  },
  {
   "cell_type": "markdown",
   "metadata": {},
   "source": [
    "### 1a. "
   ],
   "id": "4"
  },
  {
   "cell_type": "markdown",
   "metadata": {
    "flags": [
     "problems",
     "solutions"
    ]
   },
   "source": [
    "Show that the short wavelength approximation to the Planck formula results in a distribution function $\\langle E \\rangle \\propto \\exp(-\\hbar \\omega/\\tau)$"
   ],
   "id": "5"
  },
  {
   "cell_type": "markdown",
   "metadata": {},
   "source": [
    "Write your answer here"
   ],
   "id": "6"
  },
  {
   "cell_type": "markdown",
   "metadata": {},
   "source": [
    "### 1b. "
   ],
   "id": "7"
  },
  {
   "cell_type": "markdown",
   "metadata": {
    "flags": [
     "problems",
     "solutions"
    ]
   },
   "source": [
    "Recall that $\\tau = k_{\\rm B}T$ expresses the temperature in units of energy. A measured energy spectrum is basically a distribution of probabilities as a function of the photon's energy. Photon spectra have been measured in collisions of two gold nuclei at RHIC by the PHENIX Collaboration, and in Pb+Pb collisions at the LHC by the ALICE Collaboration. Fit the two measured photon spectra with the function ${\\rm Probability} = \\rm{A ~exp}(-\\hbar \\omega/\\tau)$ with A being an arbitrary normalization constant. Plot the spectrum and your fit for each distribution, on a log plot."
   ],
   "id": "8"
  },
  {
   "cell_type": "markdown",
   "metadata": {
    "flags": [
     "problems",
     "solutions"
    ]
   },
   "source": [
    "The lines below load the data into pandas dataframes called 'df_data_LHC' and 'df_data_RHIC'. Each dataframe will have three columns: 'E_GeV' (photon energy $E\\ [{\\rm GeV}/c]$), 'direct_photon_yield' (the corresponding probability distribution), and 'stat_unc' (the uncertainty)."
   ],
   "id": "9"
  },
  {
   "cell_type": "code",
   "execution_count": 2,
   "metadata": {
    "flags": [
     "problems",
     "solutions"
    ]
   },
   "outputs": [
    {
     "name": "stdout",
     "output_type": "stream",
     "text": [
      "   E_GeV  direct_photon_yield  stat_unc\n",
      "0   1.00             1.758000  0.134000\n",
      "1   1.20             0.990000  0.179000\n",
      "2   1.40             0.528900  0.070900\n",
      "3   1.60             0.229000  0.027400\n",
      "4   1.80             0.122700  0.013000\n",
      "5   2.00             0.068780  0.007180\n",
      "6   2.20             0.041180  0.003900\n",
      "7   2.40             0.026520  0.002130\n",
      "8   2.60             0.015950  0.001280\n",
      "9   2.85             0.010264  0.000683\n",
      "Energy of first entry is:  1.0\n"
     ]
    }
   ],
   "source": [
    "import pandas as pd\n",
    "df_data_LHC = pd.read_csv('data_LHC.txt')\n",
    "df_data_RHIC = pd.read_csv('data_RHIC.txt')\n",
    "# In case you have never used data frames before, here is an example of how to access the data:\n",
    "print(df_data_LHC)\n",
    "print(\"Energy of first entry is: \",df_data_LHC[\"E_GeV\"][0])"
   ],
   "id": "10"
  },
  {
   "cell_type": "markdown",
   "metadata": {
    "flags": [
     "problems",
     "solutions"
    ]
   },
   "source": [
    "You can use the [*scipy.optimize package*](https://github.com/berkeley-physics/Python-Tutorials/blob/master/3%20-%20Specific%20topics/Fitting.ipynb) to fit the spectrum with an exponential function."
   ],
   "id": "11"
  },
  {
   "cell_type": "code",
   "metadata": {},
   "source": [
    "#Write your answer here"
   ],
   "outputs": [],
   "execution_count": null,
   "id": "12"
  },
  {
   "cell_type": "markdown",
   "metadata": {},
   "source": [
    "### 1c. "
   ],
   "id": "13"
  },
  {
   "cell_type": "markdown",
   "metadata": {
    "flags": [
     "problems",
     "solutions"
    ]
   },
   "source": [
    "What is the value of $\\tau$ at RHIC? What is it at the LHC?"
   ],
   "id": "14"
  },
  {
   "cell_type": "markdown",
   "metadata": {},
   "source": [
    "Write your answer here"
   ],
   "id": "15"
  },
  {
   "cell_type": "markdown",
   "metadata": {},
   "source": [
    "### 1d. "
   ],
   "id": "16"
  },
  {
   "cell_type": "markdown",
   "metadata": {
    "flags": [
     "problems",
     "solutions"
    ]
   },
   "source": [
    "Which one is larger, and did you expect that? Explain why or why not."
   ],
   "id": "17"
  },
  {
   "cell_type": "markdown",
   "metadata": {},
   "source": [
    "Write your answer here"
   ],
   "id": "18"
  }
 ],
 "metadata": {
  "kernelspec": {
   "display_name": "Python [default]",
   "language": "python",
   "name": "python3"
  },
  "language_info": {
   "codemirror_mode": {
    "name": "ipython",
    "version": 3
   },
   "file_extension": ".py",
   "mimetype": "text/x-python",
   "name": "python",
   "nbconvert_exporter": "python",
   "pygments_lexer": "ipython3",
   "version": "3.6.8"
  }
 },
 "nbformat": 4,
 "nbformat_minor": 5
}